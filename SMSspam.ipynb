{
 "cells": [
  {
   "cell_type": "code",
   "execution_count": 11,
   "outputs": [],
   "source": [
    "import numpy as np\n",
    "import pandas as pd\n",
    "import matplotlib.pyplot as plt\n",
    "import seaborn as sns\n",
    "import tensorflow as tf\n",
    "from tensorflow import keras\n",
    "from tensorflow.keras import layers\n",
    "from sklearn.model_selection import train_test_split\n",
    "from sklearn.feature_extraction.text import TfidfVectorizer\n",
    "from sklearn.naive_bayes import MultinomialNB\n",
    "from sklearn.metrics import classification_report,accuracy_score\n",
    "from tensorflow.keras.layers import TextVectorization\n"
   ],
   "metadata": {
    "collapsed": false,
    "ExecuteTime": {
     "end_time": "2023-10-14T06:42:45.269662800Z",
     "start_time": "2023-10-14T06:42:45.259423700Z"
    }
   },
   "id": "initial_id"
  },
  {
   "cell_type": "code",
   "execution_count": 12,
   "outputs": [
    {
     "data": {
      "text/plain": "<Figure size 640x480 with 1 Axes>",
      "image/png": "[encoded data removed]"
     },
     "metadata": {},
     "output_type": "display_data"
    }
   ],
   "source": [
    "#Reading the data\n",
    "df = pd.read_csv(\"E:\\datasets\\spam.csv\",encoding='latin-1')\n",
    "df.head()\n",
    "df = df.drop(['Unnamed: 2','Unnamed: 3','Unnamed: 4'],axis=1)\n",
    "df = df.rename(columns={'v1':'label','v2':'Text'})\n",
    "df['label_enc'] = df['label'].map({'ham':0,'spam':1})\n",
    "df.head()\n",
    "sns.countplot(x=df['label'])\n",
    "plt.show()"
   ],
   "metadata": {
    "collapsed": false,
    "ExecuteTime": {
     "end_time": "2023-10-14T06:42:46.404746500Z",
     "start_time": "2023-10-14T06:42:46.306447800Z"
    }
   },
   "id": "700d959728d83c66"
  },
  {
   "cell_type": "code",
   "execution_count": 13,
   "outputs": [],
   "source": [
    "X, y = np.asanyarray(df['Text']), np.asanyarray(df['label_enc'])\n",
    "new_df = pd.DataFrame({'Text': X, 'label': y})\n",
    "X_train, X_test, y_train, y_test = train_test_split(\n",
    "    new_df['Text'], new_df['label'], test_size=0.2, random_state=42)\n",
    "X_train.shape, y_train.shape, X_test.shape, y_test.shape\n",
    "tfidf_vec = TfidfVectorizer().fit(X_train)\n",
    "X_train_vec,X_test_vec = tfidf_vec.transform(X_train),tfidf_vec.transform(X_test)\n",
    "baseline_model = MultinomialNB()\n",
    "avg_words_len=round(sum([len(i.split()) for i in df['Text']])/len(df['Text']))\n",
    "s = set()\n",
    "for sent in df['Text']:\n",
    " for word in sent.split():\n",
    "\t  s.add(word)\n",
    "total_words_length=len(s)\n",
    "MAX_TOKENS=total_words_length\n",
    "OUTPUT_LEN=avg_words_len\n"
   ],
   "metadata": {
    "collapsed": false,
    "ExecuteTime": {
     "end_time": "2023-10-14T06:42:51.346561200Z",
     "start_time": "2023-10-14T06:42:51.213906500Z"
    }
   },
   "id": "81dbbfdf79b77502"
  },
  {
   "cell_type": "code",
   "execution_count": 14,
   "outputs": [],
   "source": [
    "text_vec = TextVectorization(\n",
    "\tmax_tokens=MAX_TOKENS,\n",
    "\tstandardize='lower_and_strip_punctuation',\n",
    "\toutput_mode='int',\n",
    "\toutput_sequence_length=OUTPUT_LEN\n",
    ")"
   ],
   "metadata": {
    "collapsed": false,
    "ExecuteTime": {
     "end_time": "2023-10-14T06:42:52.310203500Z",
     "start_time": "2023-10-14T06:42:52.300144100Z"
    }
   },
   "id": "38d16f5ecb946e10"
  },
  {
   "cell_type": "code",
   "execution_count": 15,
   "outputs": [],
   "source": [
    "text_vec.adapt(X_train)\n",
    "embedding_layer = layers.Embedding(\n",
    "\tinput_dim=MAX_TOKENS,\n",
    "\toutput_dim=128,\n",
    "\tembeddings_initializer='uniform',\n",
    "\tinput_length=OUTPUT_LEN\n",
    ")"
   ],
   "metadata": {
    "collapsed": false,
    "ExecuteTime": {
     "end_time": "2023-10-14T06:42:54.492433100Z",
     "start_time": "2023-10-14T06:42:54.236663500Z"
    }
   },
   "id": "e73ce89fec955c4f"
  },
  {
   "cell_type": "code",
   "execution_count": 16,
   "outputs": [],
   "source": [
    "input_layer = layers.Input(shape=(1,), dtype=tf.string)\n",
    "vec_layer = text_vec(input_layer)\n",
    "embedding_layer_model = embedding_layer(vec_layer)\n",
    "x = layers.GlobalAveragePooling1D()(embedding_layer_model)\n",
    "x = layers.Flatten()(x)\n",
    "x = layers.Dense(32, activation='relu')(x)\n",
    "output_layer = layers.Dense(1, activation='sigmoid')(x)\n",
    "model_1 = keras.Model(input_layer, output_layer)"
   ],
   "metadata": {
    "collapsed": false,
    "ExecuteTime": {
     "end_time": "2023-10-14T06:42:55.052893700Z",
     "start_time": "2023-10-14T06:42:54.986489700Z"
    }
   },
   "id": "1a73dda075952d65"
  },
  {
   "cell_type": "code",
   "execution_count": 17,
   "outputs": [],
   "source": [
    "model_1.compile(optimizer='adam', loss=keras.losses.BinaryCrossentropy(\n",
    "\tlabel_smoothing=0.5), metrics=['accuracy'])\n",
    "from sklearn.metrics import precision_score, recall_score, f1_score\n",
    "\n",
    "def compile_model(model):\n",
    "\tmodel.compile(optimizer=keras.optimizers.Adam(),\n",
    "\t\t\t\tloss=keras.losses.BinaryCrossentropy(),\n",
    "\t\t\t\tmetrics=['accuracy'])\n",
    "\n",
    "def fit_model(model, epochs, X_train=X_train, y_train=y_train,\n",
    "\t\t\tX_test=X_test, y_test=y_test):\n",
    "\thistory = model.fit(X_train,\n",
    "\t\t\t\t\t\ty_train,\n",
    "\t\t\t\t\t\tepochs=epochs,\n",
    "\t\t\t\t\t\tvalidation_data=(X_test, y_test),\n",
    "\t\t\t\t\t\tvalidation_steps=int(0.2*len(X_test)))\n",
    "\treturn history\n",
    "\n"
   ],
   "metadata": {
    "collapsed": false,
    "ExecuteTime": {
     "end_time": "2023-10-14T06:42:55.880867800Z",
     "start_time": "2023-10-14T06:42:55.854436900Z"
    }
   },
   "id": "5d95827315a55e70"
  },
  {
   "cell_type": "code",
   "execution_count": 18,
   "outputs": [],
   "source": [
    "def evaluate_model(model, X, y):\n",
    "\ty_preds = np.round(model.predict(X))\n",
    "\taccuracy = accuracy_score(y, y_preds)\n",
    "\tprecision = precision_score(y, y_preds)\n",
    "\trecall = recall_score(y, y_preds)\n",
    "\tf1 = f1_score(y, y_preds)\n",
    "\n",
    "\tmodel_results_dict = {'accuracy': accuracy,\n",
    "\t\t\t\t\t\t'precision': precision,\n",
    "\t\t\t\t\t\t'recall': recall,\n",
    "\t\t\t\t\t\t'f1-score': f1}\n",
    "\treturn model_results_dict\n"
   ],
   "metadata": {
    "collapsed": false,
    "ExecuteTime": {
     "end_time": "2023-10-14T06:42:56.526287400Z",
     "start_time": "2023-10-14T06:42:56.507206500Z"
    }
   },
   "id": "b98ff2d6fba53f98"
  },
  {
   "cell_type": "code",
   "execution_count": null,
   "outputs": [],
   "source": [
    "input_layer = layers.Input(shape=(1,), dtype=tf.string)\n",
    "vec_layer = text_vec(input_layer)\n",
    "embedding_layer_model = embedding_layer(vec_layer)\n",
    "bi_lstm = layers.Bidirectional(layers.LSTM(\n",
    "\t64, activation='tanh', return_sequences=True))(embedding_layer_model)\n",
    "lstm = layers.Bidirectional(layers.LSTM(64))(bi_lstm)\n",
    "flatten = layers.Flatten()(lstm)\n",
    "dropout = layers.Dropout(.1)(flatten)\n",
    "x = layers.Dense(32, activation='relu')(dropout)\n",
    "output_layer = layers.Dense(1, activation='sigmoid')(x)\n",
    "model_2 = keras.Model(input_layer, output_layer)\n",
    "\n",
    "compile_model(model_2) # compile the model\n",
    "history_2 = fit_model(model_2, epochs=10)"
   ],
   "metadata": {
    "collapsed": false
   },
   "id": "34f6f5ae699001d6"
  },
  {
   "cell_type": "code",
   "execution_count": null,
   "outputs": [],
   "source": [],
   "metadata": {
    "collapsed": false
   },
   "id": "5301180879e894e2"
  }
 ],
 "metadata": {
  "kernelspec": {
   "display_name": "Python 3",
   "language": "python",
   "name": "python3"
  },
  "language_info": {
   "codemirror_mode": {
    "name": "ipython",
    "version": 2
   },
   "file_extension": ".py",
   "mimetype": "text/x-python",
   "name": "python",
   "nbconvert_exporter": "python",
   "pygments_lexer": "ipython2",
   "version": "2.7.6"
  }
 },
 "nbformat": 4,
 "nbformat_minor": 5
}
